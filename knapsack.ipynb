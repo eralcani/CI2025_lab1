{
  "cells": [
    {
      "cell_type": "code",
      "execution_count": 15,
      "id": "c0882a9f",
      "metadata": {
        "id": "c0882a9f"
      },
      "outputs": [],
      "source": [
        "import numpy as np"
      ]
    },
    {
      "cell_type": "code",
      "execution_count": 16,
      "id": "3adb670e",
      "metadata": {
        "id": "3adb670e"
      },
      "outputs": [],
      "source": [
        "NUM_KNAPSACKS = 3\n",
        "NUM_ITEMS = 10\n",
        "NUM_DIMENSIONS = 2"
      ]
    },
    {
      "cell_type": "code",
      "execution_count": 17,
      "id": "2db51e99",
      "metadata": {
        "id": "2db51e99"
      },
      "outputs": [],
      "source": [
        "VALUES = np.random.randint(0, 100, size=NUM_ITEMS)\n",
        "WEIGHTS = np.random.randint(0, 100, size=(NUM_ITEMS, NUM_DIMENSIONS))\n",
        "CONSTRAINTS = np.random.randint(0, 100 * NUM_ITEMS // NUM_KNAPSACKS, size=(NUM_KNAPSACKS, NUM_DIMENSIONS))"
      ]
    },
    {
      "cell_type": "code",
      "execution_count": 18,
      "id": "2abb812d",
      "metadata": {
        "colab": {
          "base_uri": "https://localhost:8080/"
        },
        "id": "2abb812d",
        "outputId": "29293717-d1c5-4243-e9c7-ab9263f384e8"
      },
      "outputs": [
        {
          "output_type": "execute_result",
          "data": {
            "text/plain": [
              "array([[213,  71],\n",
              "       [290, 133],\n",
              "       [191, 111]])"
            ]
          },
          "metadata": {},
          "execution_count": 18
        }
      ],
      "source": [
        "CONSTRAINTS"
      ]
    },
    {
      "cell_type": "code",
      "execution_count": 19,
      "id": "dade6b3c",
      "metadata": {
        "id": "dade6b3c"
      },
      "outputs": [],
      "source": [
        "# A random solution\n",
        "solution = np.array(\n",
        "    [np.random.random(NUM_ITEMS) < 0.5 for _ in range(NUM_KNAPSACKS)], dtype=np.bool\n",
        ")"
      ]
    },
    {
      "cell_type": "code",
      "execution_count": 20,
      "id": "f21d5749",
      "metadata": {
        "colab": {
          "base_uri": "https://localhost:8080/"
        },
        "id": "f21d5749",
        "outputId": "d661dcb4-5990-4d6b-f0ba-7d4c3b8346fa"
      },
      "outputs": [
        {
          "output_type": "execute_result",
          "data": {
            "text/plain": [
              "array([[ True,  True, False, False, False,  True,  True,  True,  True,\n",
              "         True],\n",
              "       [False,  True,  True, False,  True,  True,  True, False,  True,\n",
              "        False],\n",
              "       [False, False, False, False, False, False,  True,  True,  True,\n",
              "         True]])"
            ]
          },
          "metadata": {},
          "execution_count": 20
        }
      ],
      "source": [
        "solution"
      ]
    },
    {
      "cell_type": "code",
      "execution_count": 21,
      "id": "7de9a3fb",
      "metadata": {
        "colab": {
          "base_uri": "https://localhost:8080/"
        },
        "id": "7de9a3fb",
        "outputId": "7fd6a7e3-1ce1-418b-8876-5b1442813dfd"
      },
      "outputs": [
        {
          "output_type": "execute_result",
          "data": {
            "text/plain": [
              "np.False_"
            ]
          },
          "metadata": {},
          "execution_count": 21
        }
      ],
      "source": [
        "# Check that the same object does not appear in multiple knapsacks\n",
        "np.all(solution.sum(axis=0) <= 1)"
      ]
    },
    {
      "cell_type": "code",
      "execution_count": 22,
      "id": "54d5b5ee",
      "metadata": {
        "colab": {
          "base_uri": "https://localhost:8080/"
        },
        "id": "54d5b5ee",
        "outputId": "6ca130ba-7332-418a-a968-20daeeb1c8bb"
      },
      "outputs": [
        {
          "output_type": "execute_result",
          "data": {
            "text/plain": [
              "np.False_"
            ]
          },
          "metadata": {},
          "execution_count": 22
        }
      ],
      "source": [
        "# Check if the solution is valid\n",
        "all_knapsacks = np.any(solution, axis=0)\n",
        "np.all(WEIGHTS[all_knapsacks].sum(axis=0) < CONSTRAINTS)"
      ]
    },
    {
      "cell_type": "markdown",
      "id": "8e0e0673",
      "metadata": {
        "id": "8e0e0673"
      },
      "source": [
        "## TEST PROBLEMS"
      ]
    },
    {
      "cell_type": "code",
      "source": [
        "def fitness_increment(solution, prev_loads, prev_value, i, old_k, new_k):\n",
        "    loads = prev_loads.copy()\n",
        "    value = prev_value\n",
        "    if old_k > 0:\n",
        "        loads[old_k-1] -= WEIGHTS[i]\n",
        "        value -= VALUES[i]\n",
        "    if new_k > 0:\n",
        "        loads[new_k-1] += WEIGHTS[i]\n",
        "        value += VALUES[i]\n",
        "        if np.any(loads[new_k-1] > CONSTRAINTS[new_k-1]):\n",
        "            return -1, prev_loads, prev_value\n",
        "    return value, loads, value"
      ],
      "metadata": {
        "id": "JHNevs1eZDLx"
      },
      "id": "JHNevs1eZDLx",
      "execution_count": 59,
      "outputs": []
    },
    {
      "cell_type": "code",
      "source": [
        "def fitness(solution, VALUES, WEIGHTS, CONSTRAINTS, NUM_KNAPSACKS, NUM_DIMENSIONS):\n",
        "    # Lets compute the total value and the weights for a initial solution\n",
        "\n",
        "    current_loads = np.zeros((NUM_KNAPSACKS, NUM_DIMENSIONS), dtype=int)\n",
        "    current_value = 0\n",
        "\n",
        "    for i, k in enumerate(solution):\n",
        "            # k is the knapsack assigned\n",
        "            if k > 0:\n",
        "                knapsack_idx = k - 1\n",
        "\n",
        "                current_loads[knapsack_idx] += WEIGHTS[i]\n",
        "\n",
        "                # Verify immediatly the constraints\n",
        "                if np.any(current_loads[knapsack_idx] > CONSTRAINTS[knapsack_idx]):\n",
        "                    return -1, current_loads, 0\n",
        "\n",
        "                # Update the values if the constraits are respected\n",
        "                current_value += VALUES[i]\n",
        "\n",
        "\n",
        "    return current_value, current_loads, current_value\n"
      ],
      "metadata": {
        "id": "jPaCW1tUZIfo"
      },
      "id": "jPaCW1tUZIfo",
      "execution_count": 52,
      "outputs": []
    },
    {
      "cell_type": "code",
      "source": [
        "# HILL CLIMBING\n",
        "def hill_climb(MAX_ITER=20000, seed=None):\n",
        "    if seed is not None:\n",
        "        rng = np.random.default_rng(seed=seed)\n",
        "    else:\n",
        "        rng = np.random.default_rng()\n",
        "\n",
        "    # Starting from a random solution\n",
        "    solution = rng.integers(0, NUM_KNAPSACKS + 1, size=NUM_ITEMS)\n",
        "\n",
        "    initial_fit, initial_loads, initial_value = fitness(\n",
        "        solution, VALUES, WEIGHTS, CONSTRAINTS, NUM_KNAPSACKS, NUM_DIMENSIONS\n",
        "    )\n",
        "\n",
        "    best_solution = solution.copy()\n",
        "\n",
        "    # If the starting solution is not valid (value = -1),\n",
        "    # hill climbing loop will update it with the first valid one\n",
        "    best_value = initial_value\n",
        "    best_loads = initial_loads\n",
        "\n",
        "    if best_value == -1:\n",
        "        best_solution = np.zeros(NUM_ITEMS, dtype=int)\n",
        "        best_loads = np.zeros((NUM_KNAPSACKS, NUM_DIMENSIONS), dtype=int)\n",
        "        best_value = 0\n",
        "\n",
        "    for _ in range(MAX_ITER):\n",
        "        new_solution = best_solution.copy()\n",
        "        new_loads = best_loads.copy()\n",
        "        new_value = best_value\n",
        "\n",
        "\n",
        "        i = rng.integers(0, NUM_ITEMS)\n",
        "        old_k = new_solution[i]\n",
        "        possible_states = list(range(0, NUM_KNAPSACKS + 1))\n",
        "        possible_states.remove(old_k)\n",
        "        new_k = rng.choice(possible_states)\n",
        "        new_solution[i] = new_k\n",
        "\n",
        "\n",
        "        # if best_value is 0, the first update computes the fitness of the first run\n",
        "        fit, loads, value = fitness_increment(new_solution, best_loads, best_value, i, old_k, new_k)\n",
        "\n",
        "        if fit > best_value:\n",
        "            best_solution = new_solution\n",
        "            best_loads = loads\n",
        "            best_value = value\n",
        "\n",
        "    return best_solution, best_loads, best_value"
      ],
      "metadata": {
        "id": "5tUaaqP5ZOvc"
      },
      "id": "5tUaaqP5ZOvc",
      "execution_count": 53,
      "outputs": []
    },
    {
      "cell_type": "code",
      "source": [
        "def multi_hill_climbing(NUM_RUNS, MAX_ITER_PER_RUN, seed_runs=None):\n",
        "\n",
        "    #Running Multi-Start Hill Climbing.\n",
        "\n",
        "    # Inizializing the tracking of the best global solution\n",
        "    best_solution_global = np.zeros(NUM_ITEMS, dtype=int)\n",
        "    best_loads_global = np.zeros((NUM_KNAPSACKS, NUM_DIMENSIONS), dtype=int)\n",
        "    best_value_global = -1\n",
        "\n",
        "    print(f\"Starting Multi-Start Hill Climbing with {NUM_RUNS} run ({MAX_ITER_PER_RUN} iter/run)...\")\n",
        "\n",
        "\n",
        "    run_rng = np.random.default_rng(seed=seed_runs)\n",
        "\n",
        "    # Running Hill Climbing for a runs' number desired\n",
        "    for run in range(1, NUM_RUNS + 1):\n",
        "        current_seed = run_rng.integers(0, 100000)\n",
        "        solution, loads, value = hill_climb(MAX_ITER=MAX_ITER_PER_RUN, seed=current_seed)\n",
        "\n",
        "        # Updating the best global solution\n",
        "        if value > best_value_global:\n",
        "            best_value_global = value\n",
        "            best_solution_global = solution.copy()\n",
        "            best_loads_global = loads.copy()\n",
        "            print(f\"Run {run}: Best value found: {best_value_global}\")\n",
        "\n",
        "    return best_solution_global, best_loads_global, best_value_global"
      ],
      "metadata": {
        "id": "5PbORwpKZXmK"
      },
      "id": "5PbORwpKZXmK",
      "execution_count": 54,
      "outputs": []
    },
    {
      "cell_type": "code",
      "source": [
        "# Problem 1:\n",
        "rng = np.random.default_rng(seed=42)\n",
        "NUM_KNAPSACKS = 3\n",
        "NUM_ITEMS = 20\n",
        "NUM_DIMENSIONS = 2\n",
        "VALUES = rng.integers(0, 100, size=NUM_ITEMS)\n",
        "WEIGHTS = rng.integers(0, 100, size=(NUM_ITEMS, NUM_DIMENSIONS))\n",
        "CONSTRAINTS = rng.integers(0, 100 * NUM_ITEMS // NUM_KNAPSACKS, size=(NUM_KNAPSACKS,NUM_DIMENSIONS))\n",
        "\n",
        "# Imposing parameters for the Multi-Start\n",
        "NUM_RUNS = 50\n",
        "MAX_ITER_PER_RUN = 5000\n",
        "\n",
        "print(\"--- STARTING OPTIMIZATION ---\")\n",
        "best_solution, best_loads, best_value = multi_hill_climbing(NUM_RUNS, MAX_ITER_PER_RUN, seed_runs=100)\n",
        "\n",
        "print(\"\\n--- FINAL RESULT (MSHC) ---\")\n",
        "print(\"Best value found:\", best_value)\n",
        "for k in range(1, NUM_KNAPSACKS + 1):\n",
        "    items = [i for i, x in enumerate(best_solution) if x == k]\n",
        "    print(f\"Knapsack {k} ({len(items)} item): {items}\")\n",
        "print(\"Total weights per knapsack:\\n\", best_loads)"
      ],
      "metadata": {
        "colab": {
          "base_uri": "https://localhost:8080/"
        },
        "id": "3vjwL8AuZcFC",
        "outputId": "30524df1-8410-4f3c-a8a0-af0a1ba2fc48"
      },
      "id": "3vjwL8AuZcFC",
      "execution_count": 55,
      "outputs": [
        {
          "output_type": "stream",
          "name": "stdout",
          "text": [
            "--- STARTING OPTIMIZATION ---\n",
            "Starting Multi-Start Hill Climbing with 50 run (5000 iter/run)...\n",
            "Run 1: Best value found: 223\n",
            "Run 2: Best value found: 354\n",
            "Run 5: Best value found: 492\n",
            "Run 7: Best value found: 970\n",
            "Run 22: Best value found: 1022\n",
            "Run 28: Best value found: 1065\n",
            "\n",
            "--- FINAL RESULT (MSHC) ---\n",
            "Best value found: 1065\n",
            "Knapsack 1 (10 item): [0, 2, 4, 7, 9, 11, 14, 16, 18, 19]\n",
            "Knapsack 2 (6 item): [3, 5, 6, 8, 12, 13]\n",
            "Knapsack 3 (4 item): [1, 10, 15, 17]\n",
            "Total weights per knapsack:\n",
            " [[598 455]\n",
            " [229 427]\n",
            " [158 190]]\n"
          ]
        }
      ]
    },
    {
      "cell_type": "code",
      "source": [
        "NUM_KNAPSACKS = 10\n",
        "NUM_ITEMS = 100\n",
        "NUM_DIMENSIONS = 10\n",
        "VALUES = rng.integers(0, 1000, size=NUM_ITEMS)\n",
        "WEIGHTS = rng.integers(0, 1000, size=(NUM_ITEMS, NUM_DIMENSIONS))\n",
        "CONSTRAINTS = rng.integers(1000*2, 1000*NUM_ITEMS//NUM_KNAPSACKS, size=NUM_DIMENSIONS)\n",
        "\n",
        "# Imposing parameters for the Multi-Start\n",
        "NUM_RUNS = 100\n",
        "MAX_ITER_PER_RUN = 10000\n",
        "\n",
        "print(\"--- STARTING OPTIMIZATION ---\")\n",
        "best_solution, best_loads, best_value = multi_hill_climbing(NUM_RUNS, MAX_ITER_PER_RUN, seed_runs=100)\n",
        "\n",
        "print(\"\\n--- FINAL RESULT (MSHC) ---\")\n",
        "print(\"Best value found:\", best_value)\n",
        "for k in range(1, NUM_KNAPSACKS + 1):\n",
        "    items = [i for i, x in enumerate(best_solution) if x == k]\n",
        "    print(f\"Knapsack {k} ({len(items)} item): {items}\")\n",
        "print(\"Total weights per knapsack:\\n\", best_loads)"
      ],
      "metadata": {
        "colab": {
          "base_uri": "https://localhost:8080/"
        },
        "id": "0qmvbAWCSXL5",
        "outputId": "0ce7b9ec-fe12-43f1-81dd-5f51a1f1d8ca"
      },
      "id": "0qmvbAWCSXL5",
      "execution_count": 56,
      "outputs": [
        {
          "output_type": "stream",
          "name": "stdout",
          "text": [
            "--- STARTING OPTIMIZATION ---\n",
            "Starting Multi-Start Hill Climbing with 100 run (10000 iter/run)...\n",
            "Run 1: Best value found: 6246\n",
            "Run 5: Best value found: 7316\n",
            "Run 43: Best value found: 8939\n",
            "\n",
            "--- FINAL RESULT (MSHC) ---\n",
            "Best value found: 8939\n",
            "Knapsack 1 (12 item): [1, 7, 9, 16, 19, 29, 35, 55, 57, 65, 69, 82]\n",
            "Knapsack 2 (19 item): [2, 3, 17, 23, 27, 31, 36, 40, 41, 42, 45, 47, 53, 59, 60, 67, 79, 80, 84]\n",
            "Knapsack 3 (11 item): [26, 28, 34, 37, 38, 39, 52, 54, 63, 87, 92]\n",
            "Knapsack 4 (13 item): [4, 8, 13, 33, 61, 71, 72, 73, 76, 83, 86, 88, 97]\n",
            "Knapsack 5 (13 item): [6, 10, 25, 43, 51, 58, 66, 74, 75, 89, 90, 91, 95]\n",
            "Knapsack 6 (12 item): [5, 18, 22, 24, 44, 48, 64, 68, 78, 81, 93, 99]\n",
            "Knapsack 7 (3 item): [15, 49, 85]\n",
            "Knapsack 8 (4 item): [21, 62, 70, 96]\n",
            "Knapsack 9 (6 item): [0, 12, 30, 46, 94, 98]\n",
            "Knapsack 10 (7 item): [11, 14, 20, 32, 50, 56, 77]\n",
            "Total weights per knapsack:\n",
            " [[2057  696 1383 1715 1871  906  890 2270 2112 1111]\n",
            " [2283 1525 2202 1883 1410 3170 1453 1425 2339 2113]\n",
            " [1049 1830 1313 1137 1496  967  992  205 1485  791]\n",
            " [1521 1384 1049  819  440 1209  977  778 1396  416]\n",
            " [1351 1363  800  812 1335 1428  465  903  740 1665]\n",
            " [ 355  997 1650 1847 1689 1754 2514  971 1524 1258]\n",
            " [ 730  726  938  768  320  107  614  916  975  230]\n",
            " [   0    0    0    0    0    0    0    0    0    0]\n",
            " [ 565 1073 1274   66  738  322  963 1014  890  951]\n",
            " [1524  932 1275 2035 1996 1946 2084 1750 1383 1177]]\n"
          ]
        }
      ]
    },
    {
      "cell_type": "code",
      "source": [
        "# Problem 3\n",
        "NUM_KNAPSACKS = 100\n",
        "NUM_ITEMS = 5000\n",
        "NUM_DIMENSIONS = 100\n",
        "VALUES = rng.integers(0, 1000, size=NUM_ITEMS)\n",
        "WEIGHTS = rng.integers(0, 1000, size=(NUM_ITEMS, NUM_DIMENSIONS))\n",
        "CONSTRAINTS = rng.integers(1000*10, 1000*2*NUM_ITEMS//NUM_KNAPSACKS, size=NUM_DIMENSIONS)\n",
        "\n",
        "# Imposing parameters for the Multi-Start\n",
        "NUM_RUNS = 1000\n",
        "MAX_ITER_PER_RUN = 10000\n",
        "\n",
        "\n",
        "print(\"--- STARTING OPTIMIZATION ---\")\n",
        "best_solution, best_loads, best_value = multi_hill_climbing(NUM_RUNS, MAX_ITER_PER_RUN, seed_runs=100)\n",
        "\n",
        "print(\"\\n--- FINAL RESULT (MSHC) ---\")\n",
        "print(\"Best value found:\", best_value)\n",
        "\n",
        "print(\"Total weights per knapsack:\\n\", best_loads)"
      ],
      "metadata": {
        "colab": {
          "base_uri": "https://localhost:8080/"
        },
        "id": "fvFT8ZqESawi",
        "outputId": "35857a1a-9ff4-4295-8ae0-1f3d46105560"
      },
      "id": "fvFT8ZqESawi",
      "execution_count": 58,
      "outputs": [
        {
          "output_type": "stream",
          "name": "stdout",
          "text": [
            "--- STARTING OPTIMIZATION ---\n",
            "Starting Multi-Start Hill Climbing with 1000 run (10000 iter/run)...\n",
            "Run 1: Best value found: 20420\n",
            "Run 3: Best value found: 28548\n",
            "Run 5: Best value found: 28705\n",
            "Run 20: Best value found: 29321\n",
            "Run 102: Best value found: 31032\n",
            "Run 250: Best value found: 31347\n",
            "Run 263: Best value found: 32974\n",
            "\n",
            "--- FINAL RESULT (MSHC) ---\n",
            "Best value found: 32974\n",
            "Total weights per knapsack:\n",
            " [[ 5696  7007  5325 ...  6565  5164  6461]\n",
            " [10800  9764  8535 ... 12055 11260 10265]\n",
            " [ 4545  4749  5027 ...  6308  4451  5501]\n",
            " ...\n",
            " [ 6047  4856  7660 ...  5615  5646  6064]\n",
            " [ 6780  7744  6911 ...  5886  8054  3604]\n",
            " [ 4198  4118  3381 ...  4068  3960  5628]]\n"
          ]
        }
      ]
    }
  ],
  "metadata": {
    "kernelspec": {
      "display_name": "Python 3",
      "name": "python3"
    },
    "language_info": {
      "codemirror_mode": {
        "name": "ipython",
        "version": 3
      },
      "file_extension": ".py",
      "mimetype": "text/x-python",
      "name": "python",
      "nbconvert_exporter": "python",
      "pygments_lexer": "ipython3",
      "version": "3.13.7"
    },
    "colab": {
      "provenance": []
    }
  },
  "nbformat": 4,
  "nbformat_minor": 5
}