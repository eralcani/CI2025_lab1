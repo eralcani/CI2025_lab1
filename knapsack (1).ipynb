{
  "cells": [
    {
      "cell_type": "code",
      "execution_count": 2,
      "id": "c0882a9f",
      "metadata": {
        "id": "c0882a9f"
      },
      "outputs": [],
      "source": [
        "import numpy as np"
      ]
    },
    {
      "cell_type": "code",
      "execution_count": 3,
      "id": "3adb670e",
      "metadata": {
        "id": "3adb670e"
      },
      "outputs": [],
      "source": [
        "NUM_KNAPSACKS = 3\n",
        "NUM_ITEMS = 10\n",
        "NUM_DIMENSIONS = 2"
      ]
    },
    {
      "cell_type": "code",
      "execution_count": 4,
      "id": "2db51e99",
      "metadata": {
        "id": "2db51e99"
      },
      "outputs": [],
      "source": [
        "VALUES = np.random.randint(0, 100, size=NUM_ITEMS)\n",
        "WEIGHTS = np.random.randint(0, 100, size=(NUM_ITEMS, NUM_DIMENSIONS))\n",
        "CONSTRAINTS = np.random.randint(0, 100 * NUM_ITEMS // NUM_KNAPSACKS, size=(NUM_KNAPSACKS, NUM_DIMENSIONS))"
      ]
    },
    {
      "cell_type": "code",
      "execution_count": 5,
      "id": "2abb812d",
      "metadata": {
        "colab": {
          "base_uri": "https://localhost:8080/"
        },
        "id": "2abb812d",
        "outputId": "aa010ba4-cfd1-4e96-a4fe-daf612bcf578"
      },
      "outputs": [
        {
          "output_type": "execute_result",
          "data": {
            "text/plain": [
              "array([[314, 168],\n",
              "       [212, 157],\n",
              "       [112,  69]])"
            ]
          },
          "metadata": {},
          "execution_count": 5
        }
      ],
      "source": [
        "CONSTRAINTS"
      ]
    },
    {
      "cell_type": "code",
      "execution_count": 6,
      "id": "dade6b3c",
      "metadata": {
        "id": "dade6b3c"
      },
      "outputs": [],
      "source": [
        "# A random solution\n",
        "solution = np.array(\n",
        "    [np.random.random(NUM_ITEMS) < 0.5 for _ in range(NUM_KNAPSACKS)], dtype=np.bool\n",
        ")"
      ]
    },
    {
      "cell_type": "code",
      "execution_count": 7,
      "id": "f21d5749",
      "metadata": {
        "colab": {
          "base_uri": "https://localhost:8080/"
        },
        "id": "f21d5749",
        "outputId": "89ba34f2-636e-4cb1-c002-d101f1e924c9"
      },
      "outputs": [
        {
          "output_type": "execute_result",
          "data": {
            "text/plain": [
              "array([[False, False, False, False, False, False, False,  True,  True,\n",
              "        False],\n",
              "       [False,  True, False, False, False,  True,  True,  True, False,\n",
              "        False],\n",
              "       [ True,  True,  True,  True, False,  True, False,  True,  True,\n",
              "        False]])"
            ]
          },
          "metadata": {},
          "execution_count": 7
        }
      ],
      "source": [
        "solution"
      ]
    },
    {
      "cell_type": "code",
      "execution_count": 8,
      "id": "7de9a3fb",
      "metadata": {
        "colab": {
          "base_uri": "https://localhost:8080/"
        },
        "id": "7de9a3fb",
        "outputId": "05e59705-7385-4fec-b277-226c7666f7d4"
      },
      "outputs": [
        {
          "output_type": "execute_result",
          "data": {
            "text/plain": [
              "np.False_"
            ]
          },
          "metadata": {},
          "execution_count": 8
        }
      ],
      "source": [
        "# Check that the same object does not appear in multiple knapsacks\n",
        "np.all(solution.sum(axis=0) <= 1)"
      ]
    },
    {
      "cell_type": "code",
      "execution_count": 9,
      "id": "54d5b5ee",
      "metadata": {
        "colab": {
          "base_uri": "https://localhost:8080/"
        },
        "id": "54d5b5ee",
        "outputId": "7c1555d2-5e38-4ba9-826c-d41118f70236"
      },
      "outputs": [
        {
          "output_type": "execute_result",
          "data": {
            "text/plain": [
              "np.False_"
            ]
          },
          "metadata": {},
          "execution_count": 9
        }
      ],
      "source": [
        "# Check if the solution is valid\n",
        "all_knapsacks = np.any(solution, axis=0)\n",
        "np.all(WEIGHTS[all_knapsacks].sum(axis=0) < CONSTRAINTS)"
      ]
    },
    {
      "cell_type": "markdown",
      "id": "8e0e0673",
      "metadata": {
        "id": "8e0e0673"
      },
      "source": [
        "## TEST PROBLEMS"
      ]
    },
    {
      "cell_type": "code",
      "source": [
        "#problem 1\n",
        "rng = np.random.default_rng(seed=42)\n",
        "NUM_KNAPSACKS = 3\n",
        "NUM_ITEMS = 20\n",
        "NUM_DIMENSIONS = 2\n",
        "VALUES = rng.integers(0, 100, size=NUM_ITEMS)\n",
        "WEIGHTS = rng.integers(0, 100, size=(NUM_ITEMS, NUM_DIMENSIONS))\n",
        "CONSTRAINTS = rng.integers(0, 100*NUM_ITEMS//NUM_KNAPSACKS, size=NUM_DIMENSIONS)\n",
        "\n",
        "# Max possible value is 20 items * 100 value per item = 2000.\n",
        "# We set a large PENALTY to ensure infeasible solutions score poorly.\n",
        "PENALTY = 20000\n",
        "MAX_ITERATIONS = 500 # A safety limit for the search loop\n",
        "\n",
        "print(f\"Knapsack Constraints: {CONSTRAINTS}\")\n",
        "print(\"-\" * 50)\n",
        "\n",
        "# ------------------------------------------------------------------------------------------------------\n",
        "# FITNESS FUNCTION\n",
        "\n",
        "def calculate_fitness(selection_list, values, weights, constraints, penalty):\n",
        "    \"\"\"\n",
        "    Calculates the fitness score: Total Value - (Penalty * Total Violation Amount).\n",
        "    \"\"\"\n",
        "    # 1. Calculate the value\n",
        "    total_value = np.sum(values[selection_list == 1])\n",
        "\n",
        "    # 2. Calculate current weights and violation\n",
        "    current_weights = np.sum(weights[selection_list == 1], axis=0)\n",
        "\n",
        "    # Violation is the amount by which weight exceeds capacity (0 if no violation)\n",
        "    violation = np.maximum(0, current_weights - constraints)\n",
        "    total_violation_amount = np.sum(violation)\n",
        "\n",
        "    # 3. Calculate the penalized fitness score\n",
        "    fitness_score = total_value - (penalty * total_violation_amount)\n",
        "\n",
        "    return fitness_score, total_value, current_weights\n",
        "\n",
        "# -----------------------------------------------------------------------------------------------------------\n",
        "# 1. INITIAL SOLUTION (Start with an empty knapsack)\n",
        "\n",
        "# our current_selection is a binary vector (0=not selected, 1=selected)\n",
        "current_selection = np.zeros(NUM_ITEMS, dtype=int)\n",
        "\n",
        "# Calculate initial fitness\n",
        "current_fitness, current_value, current_weights = calculate_fitness(\n",
        "    current_selection, VALUES, WEIGHTS, CONSTRAINTS, PENALTY\n",
        ")\n",
        "\n",
        "print(f\"Initial Fitness (Empty Knapsack): {current_fitness}\")\n",
        "print(\"-\" * 50)\n",
        "\n",
        "# ------------------------------------------------------------------------------------\n",
        "#  HILL CLIMBING (Local Search)\n",
        "\n",
        "has_improved = True\n",
        "iteration = 0\n",
        "\n",
        "# Loop until no move can be found that improves the fitness score\n",
        "while has_improved and iteration < MAX_ITERATIONS:\n",
        "    has_improved = False\n",
        "\n",
        "    # Keep track of the best move found in this iteration\n",
        "    best_neighbor_selection = current_selection.copy()\n",
        "    best_neighbor_fitness = current_fitness\n",
        "\n",
        "    # Pre-calculate indices for efficiency\n",
        "    in_knapsack = np.where(current_selection == 1)[0]\n",
        "    out_knapsack = np.where(current_selection == 0)[0]\n",
        "\n",
        "    # --- Explore Neighborhood (ADD, DROP, SWAP) ---\n",
        "\n",
        "    # A. Try all possible 'ADD' moves\n",
        "    for i in out_knapsack:\n",
        "        test_selection = current_selection.copy()\n",
        "        test_selection[i] = 1 # Try to ADD item i\n",
        "\n",
        "        test_fitness, _, _ = calculate_fitness(test_selection, VALUES, WEIGHTS, CONSTRAINTS, PENALTY)\n",
        "\n",
        "        if test_fitness > best_neighbor_fitness:\n",
        "            best_neighbor_fitness = test_fitness\n",
        "            best_neighbor_selection = test_selection.copy()\n",
        "            has_improved = True\n",
        "\n",
        "    # B. Try all possible 'DROP' moves\n",
        "    for i in in_knapsack:\n",
        "        test_selection = current_selection.copy()\n",
        "        test_selection[i] = 0 # Try to DROP item i\n",
        "\n",
        "        test_fitness, _, _ = calculate_fitness(test_selection, VALUES, WEIGHTS, CONSTRAINTS, PENALTY)\n",
        "\n",
        "        if test_fitness > best_neighbor_fitness:\n",
        "            best_neighbor_fitness = test_fitness\n",
        "            best_neighbor_selection = test_selection.copy()\n",
        "            has_improved = True\n",
        "\n",
        "    # C. Try all possible 'SWAP' moves\n",
        "    for i in in_knapsack:\n",
        "        for k in out_knapsack:\n",
        "            test_selection = current_selection.copy()\n",
        "            test_selection[i] = 0 # Drop item i\n",
        "            test_selection[k] = 1 # Add item k\n",
        "\n",
        "            test_fitness, _, _ = calculate_fitness(test_selection, VALUES, WEIGHTS, CONSTRAINTS, PENALTY)\n",
        "\n",
        "            if test_fitness > best_neighbor_fitness:\n",
        "                best_neighbor_fitness = test_fitness\n",
        "                best_neighbor_selection = test_selection.copy()\n",
        "                has_improved = True\n",
        "\n",
        "    # --- Move to the best neighbor (The \"Climb\") ---\n",
        "    if has_improved:\n",
        "        current_selection = best_neighbor_selection\n",
        "        current_fitness = best_neighbor_fitness\n",
        "\n",
        "    iteration += 1\n",
        "\n",
        "    #---------------------------------------------------------------------------------------------------------------------\n",
        "\n",
        "# FINAL RESULTS\n",
        "\n",
        "final_fitness, final_value, final_weights = calculate_fitness(\n",
        "    current_selection, VALUES, WEIGHTS, CONSTRAINTS, PENALTY\n",
        ")\n",
        "selected_item_indices = np.where(current_selection == 1)[0]\n",
        "\n",
        "if final_fitness < final_value:\n",
        "    print(f\" **INFEASIBLE SOLUTION**: Constraints were violated (Fitness < Value).\")\n",
        "    print(f\"   Violation is penalized, true value is {final_value}.\")\n",
        "else:\n",
        "    print(\" **FEASIBLE SOLUTION**.\")\n",
        "\n",
        "print(f\"Iterations run: {iteration}\")\n",
        "print(\"--- Final Results ---\")\n",
        "print(f\"Final Fitness: {final_fitness}\")\n",
        "\n",
        "\n",
        "print(f\"Final Total Value: {final_value} \")\n",
        "print(f\"Final Total Weights: {final_weights}\")\n",
        "print(f\"Knapsack Constraints: {CONSTRAINTS}\")\n",
        "print(f\"Selected Item Indices: {selected_item_indices}\")"
      ],
      "metadata": {
        "colab": {
          "base_uri": "https://localhost:8080/"
        },
        "id": "t7TOW7poSOBS",
        "outputId": "cb83adf0-9b38-4cd2-d53c-de8afa724746"
      },
      "id": "t7TOW7poSOBS",
      "execution_count": 36,
      "outputs": [
        {
          "output_type": "stream",
          "name": "stdout",
          "text": [
            "Knapsack Constraints: [614 496]\n",
            "--------------------------------------------------\n",
            "Initial Fitness (Empty Knapsack): 0\n",
            "--------------------------------------------------\n",
            " **FEASIBLE SOLUTION**.\n",
            "Iterations run: 11\n",
            "--- Final Results ---\n",
            "Final Fitness: 752\n",
            "Final Total Value: 752 \n",
            "Final Total Weights: [521 496]\n",
            "Knapsack Constraints: [614 496]\n",
            "Selected Item Indices: [ 1  4  5  7 11 12 13 14 15 18]\n"
          ]
        }
      ]
    },
    {
      "cell_type": "code",
      "source": [
        "NUM_KNAPSACKS = 10\n",
        "NUM_ITEMS = 100\n",
        "NUM_DIMENSIONS = 10\n",
        "VALUES = rng.integers(0, 1000, size=NUM_ITEMS)\n",
        "WEIGHTS = rng.integers(0, 1000, size=(NUM_ITEMS, NUM_DIMENSIONS))\n",
        "CONSTRAINTS = rng.integers(1000*2, 1000*NUM_ITEMS//NUM_KNAPSACKS, size=NUM_DIMENSIONS)\n",
        "\n",
        "PENALTY = 1000 * NUM_ITEMS * 10 # Safe penalty: Max Value * 10\n",
        "MAX_LOCAL_SEARCH_ITERATIONS = 200 # Max steps for one Hill Climb run\n",
        "NUM_STARTS = 5  # Run the local search 5 times from different starting points\n",
        "\n",
        "print(f\"Items: {NUM_ITEMS}, Dimensions: {NUM_DIMENSIONS}\")\n",
        "print(f\"Knapsack Constraints: {CONSTRAINTS}\")\n",
        "print(\"-\" * 50)\n",
        "\n",
        "# -------------------------------------------------------------------------------------------\n",
        "\n",
        "def calculate_fitness(selection, values, weights, constraints, penalty):\n",
        "    \"\"\"Calculates fitness: Total Value - Penalty * Total Violation.\"\"\"\n",
        "    total_value = np.sum(values[selection == 1])\n",
        "    current_weights = np.sum(weights[selection == 1], axis=0)\n",
        "    violation = np.maximum(0, current_weights - constraints)\n",
        "    total_violation_amount = np.sum(violation)\n",
        "    fitness_score = total_value - (penalty * total_violation_amount)\n",
        "    return fitness_score, total_value, current_weights\n",
        " # --------------------------------------------------------------------------------------------\n",
        "\n",
        "def hill_climbing_search(initial_selection, values, weights, constraints, penalty, max_iters):\n",
        "    \"\"\"Performs the local search (Hill Climbing) from an initial solution.\"\"\"\n",
        "    current_selection = initial_selection.copy()\n",
        "    current_fitness, _, _ = calculate_fitness(current_selection, values, weights, constraints, penalty)\n",
        "\n",
        "    for _ in range(max_iters):\n",
        "        best_neighbor_selection = current_selection.copy()\n",
        "        best_neighbor_fitness = current_fitness\n",
        "        improvement_found = False\n",
        "\n",
        "        in_knapsack = np.where(current_selection == 1)[0]\n",
        "        out_knapsack = np.where(current_selection == 0)[0]\n",
        "\n",
        "        # --- Local Search Moves (Focus on ADD and SWAP for faster convergence) ---\n",
        "\n",
        "        # A. Try all possible 'ADD' moves\n",
        "        for i in out_knapsack:\n",
        "            test_selection = current_selection.copy()\n",
        "            test_selection[i] = 1\n",
        "            test_fitness, _, _ = calculate_fitness(test_selection, values, weights, constraints, penalty)\n",
        "            if test_fitness > best_neighbor_fitness:\n",
        "                best_neighbor_fitness = test_fitness\n",
        "                best_neighbor_selection = test_selection.copy()\n",
        "                improvement_found = True\n",
        "\n",
        "        # B. Try all possible 'SWAP' moves\n",
        "        # This is the most computationally expensive part, but crucial for MKP\n",
        "        for i in in_knapsack:\n",
        "            for k in out_knapsack:\n",
        "                test_selection = current_selection.copy()\n",
        "                test_selection[i] = 0 # Drop\n",
        "                test_selection[k] = 1 # Add\n",
        "                test_fitness, _, _ = calculate_fitness(test_selection, values, weights, constraints, penalty)\n",
        "                if test_fitness > best_neighbor_fitness:\n",
        "                    best_neighbor_fitness = test_fitness\n",
        "                    best_neighbor_selection = test_selection.copy()\n",
        "                    improvement_found = True\n",
        "\n",
        "        # Move to the best neighbor\n",
        "        if improvement_found and best_neighbor_fitness > current_fitness:\n",
        "            current_selection = best_neighbor_selection\n",
        "            current_fitness = best_neighbor_fitness\n",
        "        else:\n",
        "            break # No improvement found, reached local optimum\n",
        "\n",
        "    return current_selection, current_fitness\n",
        "\n",
        "#-----------------------------------------------------------------------------------------------------------------\n",
        "\n",
        "# 3. MULTI-START EXECUTION\n",
        "\n",
        "# This is what we store once the best fitness is found.\n",
        "best_global_selection = np.zeros(NUM_ITEMS, dtype=int)\n",
        "best_global_fitness = -np.inf\n",
        "# By tracking the highest fitness, we ensure we always prioritize solutions that are either feasible and high-value, or less infeasible than others.\n",
        "\n",
        "print(f\"Starting Multi-Start Local Search with {NUM_STARTS} runs from an empty knapsack...\")\n",
        "\n",
        "# Define the single, simple initial solution: the empty knapsack\n",
        "empty_knapsack = np.zeros(NUM_ITEMS, dtype=int)\n",
        "\n",
        "for run in range(NUM_STARTS):\n",
        "    print(f\"Starting run {run+1}...\")\n",
        "\n",
        "    # Start the Hill Climbing search from the empty knapsack\n",
        "    final_solution, final_fitness = hill_climbing_search(\n",
        "        empty_knapsack, VALUES, WEIGHTS, CONSTRAINTS, PENALTY, MAX_LOCAL_SEARCH_ITERATIONS\n",
        "    )\n",
        "\n",
        "    # Track the best result\n",
        "    if final_fitness > best_global_fitness:\n",
        "        best_global_fitness = final_fitness\n",
        "        best_global_selection = final_solution.copy()\n",
        "\n",
        "    final_value, _, _ = calculate_fitness(final_solution, VALUES, WEIGHTS, CONSTRAINTS, PENALTY)\n",
        "    print(f\"Run {run+1} completed. Final Value: {final_value}\")\n",
        "# -------------------------------------------------------------------------------------------------------------------\n",
        "\n",
        "# 4. FINAL RESULTS\n",
        "\n",
        "final_fitness, final_value, final_weights = calculate_fitness(\n",
        "    best_global_selection, VALUES, WEIGHTS, CONSTRAINTS, PENALTY\n",
        ")\n",
        "selected_item_indices = np.where(best_global_selection == 1)[0]\n",
        "\n",
        "if final_fitness < final_value:\n",
        "    print(f\" **INFEASIBLE SOLUTION**: Constraints were violated (Fitness < Value).\")\n",
        "    print(f\"   Violation is penalized, true value is {final_value}.\")\n",
        "else:\n",
        "    print(\" **FEASIBLE SOLUTION**.\")\n",
        "\n",
        "print(\"--- Overall Best Solution Found (Local Optimum) ---\")\n",
        "print(f\"Final Total Value: {final_value}\")\n",
        "print(f\"Final Total Weights: {final_weights}\")\n",
        "print(f\"Knapsack Constraints: {CONSTRAINTS}\")\n",
        "print(f\"Selected Item Count: {len(selected_item_indices)}\")\n"
      ],
      "metadata": {
        "colab": {
          "base_uri": "https://localhost:8080/"
        },
        "id": "0qmvbAWCSXL5",
        "outputId": "9661fc02-7d2e-4a63-e2d9-4d4dcc0bd6b9"
      },
      "id": "0qmvbAWCSXL5",
      "execution_count": 35,
      "outputs": [
        {
          "output_type": "stream",
          "name": "stdout",
          "text": [
            "Items: 100, Dimensions: 10\n",
            "Knapsack Constraints: [7642 9489 9148 2255 9736 6477 6811 3893 2859 2271]\n",
            "--------------------------------------------------\n",
            "Starting Multi-Start Local Search with 5 runs from an empty knapsack...\n",
            "Starting run 1...\n",
            "Run 1 completed. Final Value: 3909\n",
            "Starting run 2...\n",
            "Run 2 completed. Final Value: 3909\n",
            "Starting run 3...\n",
            "Run 3 completed. Final Value: 3909\n",
            "Starting run 4...\n",
            "Run 4 completed. Final Value: 3909\n",
            "Starting run 5...\n",
            "Run 5 completed. Final Value: 3909\n",
            " **FEASIBLE SOLUTION**.\n",
            "--- Overall Best Solution Found (Local Optimum) ---\n",
            "Final Total Value: 3909\n",
            "Final Total Weights: [1483 1738 2537 2020 2521 2224 3233 2663 1844 2265]\n",
            "Knapsack Constraints: [7642 9489 9148 2255 9736 6477 6811 3893 2859 2271]\n",
            "Selected Item Count: 5\n"
          ]
        }
      ]
    },
    {
      "cell_type": "code",
      "source": [
        "# Problem 3\n",
        "NUM_KNAPSACKS = 100\n",
        "NUM_ITEMS = 5000\n",
        "NUM_DIMENSIONS = 100\n",
        "VALUES = rng.integers(0, 1000, size=NUM_ITEMS)\n",
        "WEIGHTS = rng.integers(0, 1000, size=(NUM_ITEMS, NUM_DIMENSIONS))\n",
        "CONSTRAINTS = rng.integers(1000*10, 1000*2*NUM_ITEMS//NUM_KNAPSACKS, size=NUM_DIMENSIONS)\n",
        "\n",
        "# Safe penalty: Max Value * 10 (1000 * 5000 * 10 = 50,000,000)\n",
        "PENALTY = 1000 * NUM_ITEMS * 10\n",
        "MAX_LOCAL_SEARCH_ITERATIONS = 400 # Max steps for the search run\n",
        "# The size of the neighborhood to check per iteration. Crucial for speed.\n",
        "SAMPLE_SIZE = 5000\n",
        "\n",
        "print(f\"Items: {NUM_ITEMS}, Dimensions: {NUM_DIMENSIONS}\")\n",
        "print(f\"Knapsack Constraints (First 5): {CONSTRAINTS[:5]}...\")\n",
        "print(f\"Neighborhood Sample Size: {SAMPLE_SIZE:,}\")\n",
        "print(\"-\" * 70)\n",
        "\n",
        "# --------------------------------------------------------------------------------------------------------\n",
        "\n",
        "def calculate_fitness(selection, values, weights, constraints, penalty):\n",
        "    \"\"\"Calculates fitness: Total Value - Penalty * Total Violation.\"\"\"\n",
        "    total_value = np.sum(values[selection == 1])\n",
        "    current_weights = np.sum(weights[selection == 1], axis=0)\n",
        "    violation = np.maximum(0, current_weights - constraints)\n",
        "    total_violation_amount = np.sum(violation)\n",
        "    fitness_score = total_value - (penalty * total_violation_amount)\n",
        "    return fitness_score, total_value, current_weights\n",
        "\n",
        "def stochastic_hill_climbing(initial_selection, values, weights, constraints, penalty, max_iters, sample_size):\n",
        "    \"\"\"Performs Hill Climbing by checking only a random sample of neighbors.\"\"\"\n",
        "    current_selection = initial_selection.copy()\n",
        "    current_fitness, _, _ = calculate_fitness(current_selection, values, weights, constraints, penalty)\n",
        "\n",
        "    for _ in range(max_iters):\n",
        "        best_neighbor_selection = current_selection.copy()\n",
        "        best_neighbor_fitness = current_fitness\n",
        "        improvement_found = False\n",
        "\n",
        "        # --- Stochastic Neighborhood Sampling ---\n",
        "        for _ in range(sample_size):\n",
        "            in_knapsack = np.where(current_selection == 1)[0]\n",
        "            out_knapsack = np.where(current_selection == 0)[0]\n",
        "\n",
        "            # Select move type (ADD, DROP, SWAP) ensuring valid index choices\n",
        "            if len(in_knapsack) == 0:\n",
        "                move_type = 0 # Must ADD\n",
        "            elif len(out_knapsack) == 0:\n",
        "                move_type = 1 # Must DROP\n",
        "            else:\n",
        "                move_type = rng.integers(0, 3)\n",
        "\n",
        "            test_selection = current_selection.copy()\n",
        "\n",
        "            # Execute the random move\n",
        "            if move_type == 0: # ADD move\n",
        "                i = rng.choice(out_knapsack)\n",
        "                test_selection[i] = 1\n",
        "            elif move_type == 1: # DROP move\n",
        "                i = rng.choice(in_knapsack)\n",
        "                test_selection[i] = 0\n",
        "            else: # SWAP move\n",
        "                i = rng.choice(in_knapsack)\n",
        "                k = rng.choice(out_knapsack)\n",
        "                test_selection[i] = 0\n",
        "                test_selection[k] = 1\n",
        "\n",
        "            test_fitness, _, _ = calculate_fitness(test_selection, VALUES, WEIGHTS, CONSTRAINTS, PENALTY)\n",
        "\n",
        "            if test_fitness > best_neighbor_fitness:\n",
        "                best_neighbor_fitness = test_fitness\n",
        "                best_neighbor_selection = test_selection.copy()\n",
        "                improvement_found = True\n",
        "\n",
        "        # Move to the best sampled neighbor\n",
        "        if improvement_found and best_neighbor_fitness > current_fitness:\n",
        "            current_selection = best_neighbor_selection\n",
        "            current_fitness = best_neighbor_fitness\n",
        "        else:\n",
        "            break # No improvement found in the sampled neighborhood\n",
        "\n",
        "    return current_selection, current_fitness\n",
        "\n",
        "# -----------------------------------------------------------------------------------------------------------------\n",
        "\n",
        "import time\n",
        "# EXECUTION\n",
        "start_time = time.time()\n",
        "\n",
        "# Initial solution is the empty knapsack\n",
        "initial_solution = np.zeros(NUM_ITEMS, dtype=int)\n",
        "\n",
        "print(\"Starting Stochastic Local Search from an empty knapsack...\")\n",
        "\n",
        "final_solution, final_fitness = stochastic_hill_climbing(\n",
        "    initial_solution, VALUES, WEIGHTS, CONSTRAINTS, PENALTY,\n",
        "    MAX_LOCAL_SEARCH_ITERATIONS, SAMPLE_SIZE\n",
        ")\n",
        "\n",
        "end_time = time.time()\n",
        "print(f\"Total Heuristic Execution Time: {end_time - start_time:.2f} seconds\")\n",
        "print(\"-\" * 70)\n",
        "\n",
        "# ---------------------------------------------------------------------------------------------------------\n",
        "# FINAL RESULTS\n",
        "\n",
        "final_fitness, final_value, final_weights = calculate_fitness(\n",
        "    final_solution, VALUES, WEIGHTS, CONSTRAINTS, PENALTY\n",
        ")\n",
        "selected_item_indices = np.where(final_solution == 1)[0]\n",
        "\n",
        "print(\"--- Overall Best Solution Found (Stochastic Local Optimum) ---\")\n",
        "\n",
        "if final_fitness < final_value:\n",
        "    print(f\" **INFEASIBLE SOLUTION**: Constraints were violated (Fitness < Value).\")\n",
        "    print(f\"   Violation is penalized, true value is {final_value}.\")\n",
        "else:\n",
        "    print(\" **FEASIBLE SOLUTION**.\")\n",
        "\n",
        "print(f\"Final Total Value: {final_value} \")\n",
        "print(f\"Selected Item Count: {len(selected_item_indices)}\")\n",
        "print(f\"Final Total Weights (First 5): {final_weights[:5]}...\")\n",
        "print(f\"Knapsack Constraints (First 5): {CONSTRAINTS[:5]}...\")"
      ],
      "metadata": {
        "colab": {
          "base_uri": "https://localhost:8080/"
        },
        "id": "fvFT8ZqESawi",
        "outputId": "b9c68ca7-76fb-411e-9145-cebf1f31d439"
      },
      "id": "fvFT8ZqESawi",
      "execution_count": 34,
      "outputs": [
        {
          "output_type": "stream",
          "name": "stdout",
          "text": [
            "Items: 5000, Dimensions: 100\n",
            "Knapsack Constraints (First 5): [35522 65218 54880 92359 88142]...\n",
            "Neighborhood Sample Size: 5,000\n",
            "----------------------------------------------------------------------\n",
            "Starting Stochastic Local Search from an empty knapsack...\n",
            "Total Heuristic Execution Time: 13.18 seconds\n",
            "----------------------------------------------------------------------\n",
            "--- Overall Best Solution Found (Stochastic Local Optimum) ---\n",
            " **FEASIBLE SOLUTION**.\n",
            "Final Total Value: 24758 \n",
            "Selected Item Count: 25\n",
            "Final Total Weights (First 5): [12834 10925 13026 13994 11240]...\n",
            "Knapsack Constraints (First 5): [35522 65218 54880 92359 88142]...\n"
          ]
        }
      ]
    }
  ],
  "metadata": {
    "kernelspec": {
      "display_name": "Python 3",
      "name": "python3"
    },
    "language_info": {
      "codemirror_mode": {
        "name": "ipython",
        "version": 3
      },
      "file_extension": ".py",
      "mimetype": "text/x-python",
      "name": "python",
      "nbconvert_exporter": "python",
      "pygments_lexer": "ipython3",
      "version": "3.13.7"
    },
    "colab": {
      "provenance": []
    }
  },
  "nbformat": 4,
  "nbformat_minor": 5
}